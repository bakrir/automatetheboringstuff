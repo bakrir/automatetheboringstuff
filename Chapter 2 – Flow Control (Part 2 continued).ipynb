{
 "cells": [
  {
   "cell_type": "markdown",
   "metadata": {},
   "source": [
    "# FOR Loops and the range() Function\n",
    "\n",
    "To be continued next week\n"
   ]
  },
  {
   "cell_type": "code",
   "execution_count": 5,
   "metadata": {},
   "outputs": [
    {
     "name": "stdout",
     "output_type": "stream",
     "text": [
      "0\n",
      "1\n",
      "2\n",
      "3\n",
      "4\n"
     ]
    }
   ],
   "source": [
    " for rasha in range(5):\n",
    "        print(rasha) # the for clause"
   ]
  },
  {
   "cell_type": "code",
   "execution_count": 8,
   "metadata": {},
   "outputs": [
    {
     "name": "stdout",
     "output_type": "stream",
     "text": [
      "f\n",
      "i\n",
      "v\n",
      "e\n",
      "r\n"
     ]
    }
   ],
   "source": [
    " for i in 'fiver':\n",
    "        print(i) # the for clause"
   ]
  },
  {
   "cell_type": "code",
   "execution_count": 11,
   "metadata": {},
   "outputs": [
    {
     "name": "stdout",
     "output_type": "stream",
     "text": [
      "My name is\n",
      "Jimmy Five Times (0)\n",
      "Jimmy Five Times (1)\n",
      "Jimmy Five Times (2)\n",
      "Jimmy Five Times (3)\n",
      "Jimmy Five Times (4)\n"
     ]
    }
   ],
   "source": [
    "print('My name is')\n",
    "for i in range(5):\n",
    "    print('Jimmy Five Times (' + str(i) + ')') # the for cluase"
   ]
  },
  {
   "cell_type": "code",
   "execution_count": 10,
   "metadata": {},
   "outputs": [
    {
     "ename": "TypeError",
     "evalue": "can only concatenate str (not \"int\") to str",
     "output_type": "error",
     "traceback": [
      "\u001b[0;31m---------------------------------------------------------------------------\u001b[0m",
      "\u001b[0;31mTypeError\u001b[0m                                 Traceback (most recent call last)",
      "\u001b[0;32m<ipython-input-10-26862e93cf0d>\u001b[0m in \u001b[0;36m<module>\u001b[0;34m\u001b[0m\n\u001b[0;32m----> 1\u001b[0;31m \u001b[0mfullname\u001b[0m \u001b[0;34m=\u001b[0m \u001b[0;34m'rami'\u001b[0m \u001b[0;34m+\u001b[0m \u001b[0;34m' H '\u001b[0m \u001b[0;34m+\u001b[0m \u001b[0;34m'bakri'\u001b[0m \u001b[0;34m+\u001b[0m \u001b[0;36m1\u001b[0m\u001b[0;34m\u001b[0m\u001b[0;34m\u001b[0m\u001b[0m\n\u001b[0m",
      "\u001b[0;31mTypeError\u001b[0m: can only concatenate str (not \"int\") to str"
     ]
    }
   ],
   "source": [
    "fullname = 'rami' + ' H ' + 'bakri' + 1"
   ]
  },
  {
   "cell_type": "code",
   "execution_count": 9,
   "metadata": {},
   "outputs": [
    {
     "name": "stdout",
     "output_type": "stream",
     "text": [
      "rami H bakri\n"
     ]
    }
   ],
   "source": [
    "print(fullname)"
   ]
  },
  {
   "cell_type": "code",
   "execution_count": 9,
   "metadata": {},
   "outputs": [],
   "source": [
    "fiver = range(5)"
   ]
  },
  {
   "cell_type": "code",
   "execution_count": 10,
   "metadata": {},
   "outputs": [
    {
     "data": {
      "text/plain": [
       "range(0, 5)"
      ]
     },
     "execution_count": 10,
     "metadata": {},
     "output_type": "execute_result"
    }
   ],
   "source": [
    "fiver"
   ]
  },
  {
   "cell_type": "code",
   "execution_count": 15,
   "metadata": {},
   "outputs": [
    {
     "name": "stdout",
     "output_type": "stream",
     "text": [
      "adding 0 to total which is 0\n",
      "total now equals 0\n",
      "adding 1 to total which is 0\n",
      "total now equals 1\n",
      "adding 2 to total which is 1\n",
      "total now equals 3\n",
      "adding 3 to total which is 3\n",
      "total now equals 6\n",
      "adding 4 to total which is 6\n",
      "total now equals 10\n",
      "adding 5 to total which is 10\n",
      "total now equals 15\n",
      "adding 6 to total which is 15\n",
      "total now equals 21\n",
      "adding 7 to total which is 21\n",
      "total now equals 28\n",
      "adding 8 to total which is 28\n",
      "total now equals 36\n",
      "adding 9 to total which is 36\n",
      "total now equals 45\n",
      "adding 10 to total which is 45\n",
      "total now equals 55\n",
      "adding 11 to total which is 55\n",
      "total now equals 66\n",
      "adding 12 to total which is 66\n",
      "total now equals 78\n",
      "adding 13 to total which is 78\n",
      "total now equals 91\n",
      "adding 14 to total which is 91\n",
      "total now equals 105\n",
      "adding 15 to total which is 105\n",
      "total now equals 120\n",
      "adding 16 to total which is 120\n",
      "total now equals 136\n",
      "adding 17 to total which is 136\n",
      "total now equals 153\n",
      "adding 18 to total which is 153\n",
      "total now equals 171\n",
      "adding 19 to total which is 171\n",
      "total now equals 190\n",
      "adding 20 to total which is 190\n",
      "total now equals 210\n",
      "adding 21 to total which is 210\n",
      "total now equals 231\n",
      "adding 22 to total which is 231\n",
      "total now equals 253\n",
      "adding 23 to total which is 253\n",
      "total now equals 276\n",
      "adding 24 to total which is 276\n",
      "total now equals 300\n",
      "adding 25 to total which is 300\n",
      "total now equals 325\n",
      "adding 26 to total which is 325\n",
      "total now equals 351\n",
      "adding 27 to total which is 351\n",
      "total now equals 378\n",
      "adding 28 to total which is 378\n",
      "total now equals 406\n",
      "adding 29 to total which is 406\n",
      "total now equals 435\n",
      "adding 30 to total which is 435\n",
      "total now equals 465\n",
      "adding 31 to total which is 465\n",
      "total now equals 496\n",
      "adding 32 to total which is 496\n",
      "total now equals 528\n",
      "adding 33 to total which is 528\n",
      "total now equals 561\n",
      "adding 34 to total which is 561\n",
      "total now equals 595\n",
      "adding 35 to total which is 595\n",
      "total now equals 630\n",
      "adding 36 to total which is 630\n",
      "total now equals 666\n",
      "adding 37 to total which is 666\n",
      "total now equals 703\n",
      "adding 38 to total which is 703\n",
      "total now equals 741\n",
      "adding 39 to total which is 741\n",
      "total now equals 780\n",
      "adding 40 to total which is 780\n",
      "total now equals 820\n",
      "adding 41 to total which is 820\n",
      "total now equals 861\n",
      "adding 42 to total which is 861\n",
      "total now equals 903\n",
      "adding 43 to total which is 903\n",
      "total now equals 946\n",
      "adding 44 to total which is 946\n",
      "total now equals 990\n",
      "adding 45 to total which is 990\n",
      "total now equals 1035\n",
      "adding 46 to total which is 1035\n",
      "total now equals 1081\n",
      "adding 47 to total which is 1081\n",
      "total now equals 1128\n",
      "adding 48 to total which is 1128\n",
      "total now equals 1176\n",
      "adding 49 to total which is 1176\n",
      "total now equals 1225\n",
      "adding 50 to total which is 1225\n",
      "total now equals 1275\n",
      "adding 51 to total which is 1275\n",
      "total now equals 1326\n",
      "adding 52 to total which is 1326\n",
      "total now equals 1378\n",
      "adding 53 to total which is 1378\n",
      "total now equals 1431\n",
      "adding 54 to total which is 1431\n",
      "total now equals 1485\n",
      "adding 55 to total which is 1485\n",
      "total now equals 1540\n",
      "adding 56 to total which is 1540\n",
      "total now equals 1596\n",
      "adding 57 to total which is 1596\n",
      "total now equals 1653\n",
      "adding 58 to total which is 1653\n",
      "total now equals 1711\n",
      "adding 59 to total which is 1711\n",
      "total now equals 1770\n",
      "adding 60 to total which is 1770\n",
      "total now equals 1830\n",
      "adding 61 to total which is 1830\n",
      "total now equals 1891\n",
      "adding 62 to total which is 1891\n",
      "total now equals 1953\n",
      "adding 63 to total which is 1953\n",
      "total now equals 2016\n",
      "adding 64 to total which is 2016\n",
      "total now equals 2080\n",
      "adding 65 to total which is 2080\n",
      "total now equals 2145\n",
      "adding 66 to total which is 2145\n",
      "total now equals 2211\n",
      "adding 67 to total which is 2211\n",
      "total now equals 2278\n",
      "adding 68 to total which is 2278\n",
      "total now equals 2346\n",
      "adding 69 to total which is 2346\n",
      "total now equals 2415\n",
      "adding 70 to total which is 2415\n",
      "total now equals 2485\n",
      "adding 71 to total which is 2485\n",
      "total now equals 2556\n",
      "adding 72 to total which is 2556\n",
      "total now equals 2628\n",
      "adding 73 to total which is 2628\n",
      "total now equals 2701\n",
      "adding 74 to total which is 2701\n",
      "total now equals 2775\n",
      "adding 75 to total which is 2775\n",
      "total now equals 2850\n",
      "adding 76 to total which is 2850\n",
      "total now equals 2926\n",
      "adding 77 to total which is 2926\n",
      "total now equals 3003\n",
      "adding 78 to total which is 3003\n",
      "total now equals 3081\n",
      "adding 79 to total which is 3081\n",
      "total now equals 3160\n",
      "adding 80 to total which is 3160\n",
      "total now equals 3240\n",
      "adding 81 to total which is 3240\n",
      "total now equals 3321\n",
      "adding 82 to total which is 3321\n",
      "total now equals 3403\n",
      "adding 83 to total which is 3403\n",
      "total now equals 3486\n",
      "adding 84 to total which is 3486\n",
      "total now equals 3570\n",
      "adding 85 to total which is 3570\n",
      "total now equals 3655\n",
      "adding 86 to total which is 3655\n",
      "total now equals 3741\n",
      "adding 87 to total which is 3741\n",
      "total now equals 3828\n",
      "adding 88 to total which is 3828\n",
      "total now equals 3916\n",
      "adding 89 to total which is 3916\n",
      "total now equals 4005\n",
      "adding 90 to total which is 4005\n",
      "total now equals 4095\n",
      "adding 91 to total which is 4095\n",
      "total now equals 4186\n",
      "adding 92 to total which is 4186\n",
      "total now equals 4278\n",
      "adding 93 to total which is 4278\n",
      "total now equals 4371\n",
      "adding 94 to total which is 4371\n",
      "total now equals 4465\n",
      "adding 95 to total which is 4465\n",
      "total now equals 4560\n",
      "adding 96 to total which is 4560\n",
      "total now equals 4656\n",
      "adding 97 to total which is 4656\n",
      "total now equals 4753\n",
      "adding 98 to total which is 4753\n",
      "total now equals 4851\n",
      "adding 99 to total which is 4851\n",
      "total now equals 4950\n",
      "adding 100 to total which is 4950\n",
      "total now equals 5050\n",
      "5050\n"
     ]
    }
   ],
   "source": [
    "total = 0\n",
    "for num in range(101):\n",
    "    print(f'adding {num} to total which is {total}')\n",
    "    total = total + num\n",
    "    print(f'total now equals { total }')\n",
    "    \n",
    "print(total)"
   ]
  },
  {
   "cell_type": "code",
   "execution_count": 16,
   "metadata": {},
   "outputs": [
    {
     "name": "stdout",
     "output_type": "stream",
     "text": [
      "My name is\n",
      "Jimmy Five Times (0)\n",
      "Jimmy Five Times (1)\n",
      "Jimmy Five Times (2)\n",
      "Jimmy Five Times (3)\n",
      "Jimmy Five Times (4)\n"
     ]
    }
   ],
   "source": [
    "print('My name is')\n",
    "i = 0\n",
    "while i < 5:\n",
    "    print('Jimmy Five Times (' + str(i) + ')')\n",
    "    i = i + 1"
   ]
  },
  {
   "cell_type": "code",
   "execution_count": 17,
   "metadata": {},
   "outputs": [
    {
     "name": "stdout",
     "output_type": "stream",
     "text": [
      "12\n",
      "13\n",
      "14\n",
      "15\n"
     ]
    }
   ],
   "source": [
    "for i in range(12, 16):\n",
    "    print(i)"
   ]
  },
  {
   "cell_type": "code",
   "execution_count": 18,
   "metadata": {},
   "outputs": [
    {
     "name": "stdout",
     "output_type": "stream",
     "text": [
      "0\n",
      "1\n",
      "2\n",
      "3\n",
      "4\n",
      "5\n",
      "6\n",
      "7\n",
      "8\n",
      "9\n"
     ]
    }
   ],
   "source": [
    "for i in range(10):\n",
    "    print(i)"
   ]
  },
  {
   "cell_type": "code",
   "execution_count": 21,
   "metadata": {},
   "outputs": [
    {
     "name": "stdout",
     "output_type": "stream",
     "text": [
      "0\n",
      "4\n",
      "8\n"
     ]
    }
   ],
   "source": [
    "for i in range(0, 10, 4):\n",
    "    print(i)"
   ]
  },
  {
   "cell_type": "code",
   "execution_count": 22,
   "metadata": {},
   "outputs": [
    {
     "name": "stdout",
     "output_type": "stream",
     "text": [
      "5\n",
      "4\n",
      "3\n",
      "2\n",
      "1\n",
      "0\n"
     ]
    }
   ],
   "source": [
    "for i in range(5, -1, -1):\n",
    "    print(i)"
   ]
  },
  {
   "cell_type": "code",
   "execution_count": null,
   "metadata": {},
   "outputs": [],
   "source": []
  }
 ],
 "metadata": {
  "kernelspec": {
   "display_name": "Python 3",
   "language": "python",
   "name": "python3"
  },
  "language_info": {
   "codemirror_mode": {
    "name": "ipython",
    "version": 3
   },
   "file_extension": ".py",
   "mimetype": "text/x-python",
   "name": "python",
   "nbconvert_exporter": "python",
   "pygments_lexer": "ipython3",
   "version": "3.7.4"
  }
 },
 "nbformat": 4,
 "nbformat_minor": 2
}
