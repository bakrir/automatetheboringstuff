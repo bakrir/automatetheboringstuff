{
 "cells": [
  {
   "cell_type": "markdown",
   "metadata": {},
   "source": [
    "You’re already familiar with the print(), input(), and len() functions from the previous chapters. Python provides several built-in functions like these, but you can also write your own functions. A function is like a miniprogram within a program.\n",
    "\n",
    "To better understand how functions work, let’s create one. Enter this program into the file editor and save it as helloFunc.py:"
   ]
  },
  {
   "cell_type": "code",
   "execution_count": 2,
   "metadata": {},
   "outputs": [
    {
     "name": "stdout",
     "output_type": "stream",
     "text": [
      "Hello world\n",
      "Give me a number?!: five\n",
      "4\n"
     ]
    }
   ],
   "source": [
    "print('Hello world')\n",
    "user_input = input('Give me a number?!: ')\n",
    "print(len(user_input) )"
   ]
  },
  {
   "cell_type": "code",
   "execution_count": 13,
   "metadata": {},
   "outputs": [],
   "source": []
  },
  {
   "cell_type": "code",
   "execution_count": 22,
   "metadata": {},
   "outputs": [
    {
     "name": "stdout",
     "output_type": "stream",
     "text": [
      "what is your name:rami\n",
      "Howdy\n",
      "Howdy!!!!\n",
      "Hello there.!\n",
      "Howdy\n",
      "Howdy!!!!\n",
      "Hello there.!\n",
      "Howdy\n",
      "Howdy!!!!\n",
      "Hello there.!\n"
     ]
    }
   ],
   "source": [
    "def hello():\n",
    "    print('Howdy')\n",
    "    print('Howdy!!!!')\n",
    "    print('Hello there.!')\n",
    "    \n",
    "user_input = input('what is your name:')\n",
    "\n",
    "if user_input:\n",
    "    hello()\n",
    "    hello()\n",
    "    hello()\n",
    "else:\n",
    "    print('no username provided')"
   ]
  },
  {
   "cell_type": "code",
   "execution_count": 25,
   "metadata": {},
   "outputs": [],
   "source": [
    "def hello(name):\n",
    "    print('Hello, ' + name)\n"
   ]
  },
  {
   "cell_type": "code",
   "execution_count": 24,
   "metadata": {},
   "outputs": [
    {
     "name": "stdout",
     "output_type": "stream",
     "text": [
      "Hello,Alice\n"
     ]
    }
   ],
   "source": [
    "hello('Alice')"
   ]
  },
  {
   "cell_type": "code",
   "execution_count": 27,
   "metadata": {},
   "outputs": [
    {
     "name": "stdout",
     "output_type": "stream",
     "text": [
      "Hello, Bob\n"
     ]
    },
    {
     "ename": "NameError",
     "evalue": "name 'name' is not defined",
     "output_type": "error",
     "traceback": [
      "\u001b[0;31m---------------------------------------------------------------------------\u001b[0m",
      "\u001b[0;31mNameError\u001b[0m                                 Traceback (most recent call last)",
      "\u001b[0;32m<ipython-input-27-b63b125ed1f6>\u001b[0m in \u001b[0;36m<module>\u001b[0;34m\u001b[0m\n\u001b[1;32m      1\u001b[0m \u001b[0mhello\u001b[0m\u001b[0;34m(\u001b[0m\u001b[0;34m'Bob'\u001b[0m\u001b[0;34m)\u001b[0m\u001b[0;34m\u001b[0m\u001b[0;34m\u001b[0m\u001b[0m\n\u001b[0;32m----> 2\u001b[0;31m \u001b[0mprint\u001b[0m\u001b[0;34m(\u001b[0m\u001b[0mname\u001b[0m\u001b[0;34m)\u001b[0m\u001b[0;34m\u001b[0m\u001b[0;34m\u001b[0m\u001b[0m\n\u001b[0m",
      "\u001b[0;31mNameError\u001b[0m: name 'name' is not defined"
     ]
    }
   ],
   "source": [
    "hello('Bob')\n",
    "print(name)"
   ]
  },
  {
   "cell_type": "code",
   "execution_count": 28,
   "metadata": {},
   "outputs": [
    {
     "name": "stdout",
     "output_type": "stream",
     "text": [
      "Hello, Al\n"
     ]
    }
   ],
   "source": [
    "def say_hello(name):\n",
    "    print('Hello, ' + name)\n",
    "    \n",
    "say_hello('Al')"
   ]
  },
  {
   "cell_type": "code",
   "execution_count": 44,
   "metadata": {},
   "outputs": [],
   "source": [
    "import random\n",
    "\n",
    "def get_answer(answer_number):\n",
    "    if answer_number == 1:\n",
    "        return 'it is certain'\n",
    "    \n",
    "    elif answer_number == 2:\n",
    "        return 'it is decidedly so'\n",
    "\n",
    "    elif answer_number == 3:\n",
    "        return 'Yes'\n",
    "    \n",
    "    elif answer_number == 4:\n",
    "        return 'Reply Hazy try again'\n",
    "    \n",
    "    elif answer_number == 5:\n",
    "        return 'Ask again later'\n",
    "    \n",
    "    elif answer_number == 6:\n",
    "        return 'Concentrate and ask again'\n",
    "    \n",
    "    elif answer_number ==7:\n",
    "        return 'my reply is no'\n",
    "    \n",
    "    elif answer_number == 8:\n",
    "        return 'outlook not so good'\n",
    "    \n",
    "    elif answer_number == 9:\n",
    "        return 'very doubtful'"
   ]
  },
  {
   "cell_type": "code",
   "execution_count": 43,
   "metadata": {},
   "outputs": [
    {
     "name": "stdout",
     "output_type": "stream",
     "text": [
      "it is decidedly so\n",
      "Yes\n"
     ]
    }
   ],
   "source": [
    "r = random.randint(1,9)\n",
    "\n",
    "fortune = get_answer(r)\n",
    "\n",
    "print(fortune)\n",
    "\n",
    "print(get_answer(random.randint(1,9)))"
   ]
  },
  {
   "cell_type": "markdown",
   "metadata": {},
   "source": [
    "## The None Value\n"
   ]
  },
  {
   "cell_type": "code",
   "execution_count": 2,
   "metadata": {},
   "outputs": [
    {
     "data": {
      "text/plain": [
       "False"
      ]
     },
     "execution_count": 2,
     "metadata": {},
     "output_type": "execute_result"
    }
   ],
   "source": [
    "bool(None)"
   ]
  },
  {
   "cell_type": "code",
   "execution_count": 3,
   "metadata": {},
   "outputs": [
    {
     "name": "stdout",
     "output_type": "stream",
     "text": [
      "Hello!\n"
     ]
    }
   ],
   "source": [
    "spam = print('Hello!')"
   ]
  },
  {
   "cell_type": "code",
   "execution_count": 4,
   "metadata": {},
   "outputs": [
    {
     "data": {
      "text/plain": [
       "True"
      ]
     },
     "execution_count": 4,
     "metadata": {},
     "output_type": "execute_result"
    }
   ],
   "source": [
    "None == spam"
   ]
  },
  {
   "cell_type": "code",
   "execution_count": 5,
   "metadata": {},
   "outputs": [],
   "source": [
    "def test_print():\n",
    "    print('Hello')\n",
    "    return"
   ]
  },
  {
   "cell_type": "code",
   "execution_count": 6,
   "metadata": {},
   "outputs": [
    {
     "name": "stdout",
     "output_type": "stream",
     "text": [
      "Hello\n"
     ]
    }
   ],
   "source": [
    "test_print()"
   ]
  },
  {
   "cell_type": "markdown",
   "metadata": {},
   "source": [
    "## Keyword Arguments and the print() Function"
   ]
  },
  {
   "cell_type": "code",
   "execution_count": 9,
   "metadata": {},
   "outputs": [
    {
     "name": "stdout",
     "output_type": "stream",
     "text": [
      "Hello\n",
      "World\n"
     ]
    }
   ],
   "source": [
    "print('Hello')\n",
    "print('World')"
   ]
  },
  {
   "cell_type": "code",
   "execution_count": 12,
   "metadata": {},
   "outputs": [
    {
     "name": "stdout",
     "output_type": "stream",
     "text": [
      "HelloWorld\n"
     ]
    }
   ],
   "source": [
    "print('Hello', end='')\n",
    "print('World')"
   ]
  },
  {
   "cell_type": "code",
   "execution_count": 13,
   "metadata": {},
   "outputs": [
    {
     "name": "stdout",
     "output_type": "stream",
     "text": [
      "cats dogs mice\n"
     ]
    }
   ],
   "source": [
    "print('cats', 'dogs', 'mice')"
   ]
  },
  {
   "cell_type": "code",
   "execution_count": 17,
   "metadata": {},
   "outputs": [
    {
     "name": "stdout",
     "output_type": "stream",
     "text": [
      "cats.dogs.mice\n"
     ]
    }
   ],
   "source": [
    "print('cats', 'dogs', 'mice', sep='.')"
   ]
  },
  {
   "cell_type": "markdown",
   "metadata": {},
   "source": [
    "## The Call Stack"
   ]
  },
  {
   "cell_type": "markdown",
   "metadata": {},
   "source": [
    "### abcdCallStack.py"
   ]
  },
  {
   "cell_type": "code",
   "execution_count": 20,
   "metadata": {},
   "outputs": [
    {
     "name": "stdout",
     "output_type": "stream",
     "text": [
      "a() starts\n",
      "b() starts\n",
      "c() starts\n",
      "c() returns\n",
      "b() returns\n",
      "d() starts\n",
      "d() returns\n",
      "a() returns\n"
     ]
    }
   ],
   "source": [
    "def a():\n",
    "    print('a() starts')\n",
    "    b()\n",
    "    d()\n",
    "    print('a() returns')\n",
    "    \n",
    "def b():\n",
    "    print('b() starts')\n",
    "    c()\n",
    "    print('b() returns')\n",
    "    \n",
    "def c():\n",
    "    print('c() starts')\n",
    "    print('c() returns')\n",
    "    \n",
    "def d():\n",
    "    print('d() starts')\n",
    "    print('d() returns')\n",
    "  \n",
    "a() ## calling "
   ]
  },
  {
   "cell_type": "code",
   "execution_count": 25,
   "metadata": {},
   "outputs": [],
   "source": [
    "def rasha_bakri():\n",
    "    print('a() starts')\n",
    "    b()\n",
    "    d()\n",
    "    print('a() returns')\n",
    "    "
   ]
  },
  {
   "cell_type": "code",
   "execution_count": 26,
   "metadata": {},
   "outputs": [
    {
     "name": "stdout",
     "output_type": "stream",
     "text": [
      "a() starts\n",
      "b() starts\n",
      "c() starts\n",
      "c() returns\n",
      "b() returns\n",
      "d() starts\n",
      "d() returns\n",
      "a() returns\n"
     ]
    }
   ],
   "source": [
    "rasha_bakri()"
   ]
  },
  {
   "cell_type": "code",
   "execution_count": 23,
   "metadata": {},
   "outputs": [
    {
     "name": "stdout",
     "output_type": "stream",
     "text": [
      "a() starts\n",
      "b() starts\n",
      "c() starts\n",
      "c() returns\n",
      "b() returns\n",
      "d() starts\n",
      "d() returns\n",
      "a() returns\n"
     ]
    }
   ],
   "source": [
    "a()"
   ]
  },
  {
   "cell_type": "markdown",
   "metadata": {},
   "source": [
    "## Local and Global Scope\n"
   ]
  },
  {
   "cell_type": "markdown",
   "metadata": {},
   "source": [
    "Scopes matter for several reasons:\n",
    "\n",
    "- Code in the global scope, outside of all functions, cannot use any local variables.\n",
    "- However, code in a local scope can access global variables.\n",
    "- Code in a function’s local scope cannot use variables in any other local scope.\n",
    "\n",
    "- You can use the same name for different variables if they are in different scopes. That is, there can be a local variable named spam and a global variable also named spam."
   ]
  },
  {
   "cell_type": "markdown",
   "metadata": {},
   "source": [
    "### Local Variables Cannot Be Used in the Global Scope\n",
    "\n"
   ]
  },
  {
   "cell_type": "code",
   "execution_count": 27,
   "metadata": {},
   "outputs": [],
   "source": [
    "def spam():\n",
    "    eggs=31337\n"
   ]
  },
  {
   "cell_type": "code",
   "execution_count": 28,
   "metadata": {},
   "outputs": [],
   "source": [
    "spam()"
   ]
  },
  {
   "cell_type": "code",
   "execution_count": 29,
   "metadata": {},
   "outputs": [
    {
     "ename": "NameError",
     "evalue": "name 'eggs' is not defined",
     "output_type": "error",
     "traceback": [
      "\u001b[0;31m---------------------------------------------------------------------------\u001b[0m",
      "\u001b[0;31mNameError\u001b[0m                                 Traceback (most recent call last)",
      "\u001b[0;32m<ipython-input-29-15da8c3dc934>\u001b[0m in \u001b[0;36m<module>\u001b[0;34m\u001b[0m\n\u001b[0;32m----> 1\u001b[0;31m \u001b[0mprint\u001b[0m\u001b[0;34m(\u001b[0m\u001b[0meggs\u001b[0m\u001b[0;34m)\u001b[0m\u001b[0;34m\u001b[0m\u001b[0;34m\u001b[0m\u001b[0m\n\u001b[0m",
      "\u001b[0;31mNameError\u001b[0m: name 'eggs' is not defined"
     ]
    }
   ],
   "source": [
    "print(eggs)"
   ]
  },
  {
   "cell_type": "markdown",
   "metadata": {},
   "source": [
    "### Local Scopes Cannot Use Variables in Other Local Scopes"
   ]
  },
  {
   "cell_type": "code",
   "execution_count": 32,
   "metadata": {},
   "outputs": [],
   "source": [
    "def spam():\n",
    "    eggs = 99\n",
    "    bacon()\n",
    "    print(eggs)\n",
    "\n",
    "def bacon():\n",
    "    ham = 101\n",
    "    eggs = 0\n"
   ]
  },
  {
   "cell_type": "code",
   "execution_count": 34,
   "metadata": {},
   "outputs": [
    {
     "name": "stdout",
     "output_type": "stream",
     "text": [
      "99\n"
     ]
    }
   ],
   "source": [
    "spam()"
   ]
  },
  {
   "cell_type": "markdown",
   "metadata": {},
   "source": [
    "### Global Variables Can Be Read from a Local Scope\n"
   ]
  },
  {
   "cell_type": "code",
   "execution_count": 35,
   "metadata": {},
   "outputs": [],
   "source": [
    "def spam():\n",
    "    print(eggs)"
   ]
  },
  {
   "cell_type": "code",
   "execution_count": 36,
   "metadata": {},
   "outputs": [],
   "source": [
    "eggs = 42"
   ]
  },
  {
   "cell_type": "code",
   "execution_count": 37,
   "metadata": {},
   "outputs": [
    {
     "name": "stdout",
     "output_type": "stream",
     "text": [
      "42\n"
     ]
    }
   ],
   "source": [
    "spam()"
   ]
  },
  {
   "cell_type": "code",
   "execution_count": 38,
   "metadata": {},
   "outputs": [
    {
     "name": "stdout",
     "output_type": "stream",
     "text": [
      "42\n"
     ]
    }
   ],
   "source": [
    "print(eggs)"
   ]
  },
  {
   "cell_type": "markdown",
   "metadata": {},
   "source": [
    "### Local and Global Variables with the Same Name\n"
   ]
  },
  {
   "cell_type": "code",
   "execution_count": 39,
   "metadata": {},
   "outputs": [],
   "source": [
    "def spam():\n",
    "    eggs = 'spam local'\n",
    "    print(eggs) # print 'spam local'\n",
    "    \n",
    "def bacon():\n",
    "    eggs = 'bacon local'\n",
    "    print(eggs) # prints 'bacon local'\n",
    "    \n",
    "    spam()\n",
    "    \n",
    "    print(eggs) # prints 'bacon local'\n",
    "    \n",
    "eggs = 'global'"
   ]
  },
  {
   "cell_type": "code",
   "execution_count": 41,
   "metadata": {},
   "outputs": [
    {
     "name": "stdout",
     "output_type": "stream",
     "text": [
      "bacon local\n",
      "spam local\n",
      "bacon local\n",
      "global\n"
     ]
    }
   ],
   "source": [
    "bacon()\n",
    "print(eggs)"
   ]
  },
  {
   "cell_type": "markdown",
   "metadata": {},
   "source": [
    "### The global Statement"
   ]
  },
  {
   "cell_type": "code",
   "execution_count": 42,
   "metadata": {},
   "outputs": [],
   "source": [
    "def spam():\n",
    "    global eggs\n",
    "    eggs = 'spam'\n",
    "    \n",
    "eggs = 'global'"
   ]
  },
  {
   "cell_type": "code",
   "execution_count": 43,
   "metadata": {},
   "outputs": [],
   "source": [
    "spam()"
   ]
  },
  {
   "cell_type": "code",
   "execution_count": 45,
   "metadata": {},
   "outputs": [
    {
     "name": "stdout",
     "output_type": "stream",
     "text": [
      "spam\n"
     ]
    }
   ],
   "source": [
    "print(eggs)"
   ]
  },
  {
   "cell_type": "markdown",
   "metadata": {},
   "source": [
    "There are four rules to tell whether a variable is in a local scope or global scope:\n",
    "\n",
    "- If a variable is being used in the global scope (that is, outside of all functions), then it is always a global variable.\n",
    "- If there is a global statement for that variable in a function, it is a global variable.\n",
    "- Otherwise, if the variable is used in an assignment statement in the function, it is a local variable.\n",
    "- But if the variable is not used in an assignment statement, it is a global variable.\n"
   ]
  },
  {
   "cell_type": "code",
   "execution_count": 46,
   "metadata": {},
   "outputs": [],
   "source": [
    "def spam():\n",
    "    global eggs\n",
    "    eggs = 'spam' # this is the global\n",
    "    \n",
    "def bacon():\n",
    "    eggs = 'bacon' # this is a local\n",
    "    \n",
    "def ham():\n",
    "    print(eggs) # this is the global\n",
    "    \n",
    "eggs = 42 # this is the global\n"
   ]
  },
  {
   "cell_type": "code",
   "execution_count": 47,
   "metadata": {},
   "outputs": [],
   "source": [
    "spam()"
   ]
  },
  {
   "cell_type": "code",
   "execution_count": 49,
   "metadata": {},
   "outputs": [
    {
     "name": "stdout",
     "output_type": "stream",
     "text": [
      "spam\n"
     ]
    }
   ],
   "source": [
    "print(eggs)"
   ]
  },
  {
   "cell_type": "markdown",
   "metadata": {},
   "source": [
    "##### NOTE\n",
    "\n",
    "If you ever want to modify the value stored in a global variable from in a function, you must use a global statement on that variable."
   ]
  },
  {
   "cell_type": "code",
   "execution_count": 57,
   "metadata": {},
   "outputs": [],
   "source": [
    "def spam():\n",
    "    print(eggs) # error!\n",
    "    eggs = 'spam local'\n",
    "    \n",
    "\n",
    "eggs = 'global'"
   ]
  },
  {
   "cell_type": "code",
   "execution_count": 58,
   "metadata": {},
   "outputs": [
    {
     "ename": "UnboundLocalError",
     "evalue": "local variable 'eggs' referenced before assignment",
     "output_type": "error",
     "traceback": [
      "\u001b[0;31m---------------------------------------------------------------------------\u001b[0m",
      "\u001b[0;31mUnboundLocalError\u001b[0m                         Traceback (most recent call last)",
      "\u001b[0;32m<ipython-input-58-d5ed96e4f643>\u001b[0m in \u001b[0;36m<module>\u001b[0;34m\u001b[0m\n\u001b[0;32m----> 1\u001b[0;31m \u001b[0mspam\u001b[0m\u001b[0;34m(\u001b[0m\u001b[0;34m)\u001b[0m\u001b[0;34m\u001b[0m\u001b[0;34m\u001b[0m\u001b[0m\n\u001b[0m",
      "\u001b[0;32m<ipython-input-57-48b4e29e9b6c>\u001b[0m in \u001b[0;36mspam\u001b[0;34m()\u001b[0m\n\u001b[1;32m      1\u001b[0m \u001b[0;32mdef\u001b[0m \u001b[0mspam\u001b[0m\u001b[0;34m(\u001b[0m\u001b[0;34m)\u001b[0m\u001b[0;34m:\u001b[0m\u001b[0;34m\u001b[0m\u001b[0;34m\u001b[0m\u001b[0m\n\u001b[0;32m----> 2\u001b[0;31m     \u001b[0mprint\u001b[0m\u001b[0;34m(\u001b[0m\u001b[0meggs\u001b[0m\u001b[0;34m)\u001b[0m \u001b[0;31m# error!\u001b[0m\u001b[0;34m\u001b[0m\u001b[0;34m\u001b[0m\u001b[0m\n\u001b[0m\u001b[1;32m      3\u001b[0m     \u001b[0meggs\u001b[0m \u001b[0;34m=\u001b[0m \u001b[0;34m'spam local'\u001b[0m\u001b[0;34m\u001b[0m\u001b[0;34m\u001b[0m\u001b[0m\n\u001b[1;32m      4\u001b[0m \u001b[0;34m\u001b[0m\u001b[0m\n\u001b[1;32m      5\u001b[0m \u001b[0;34m\u001b[0m\u001b[0m\n",
      "\u001b[0;31mUnboundLocalError\u001b[0m: local variable 'eggs' referenced before assignment"
     ]
    }
   ],
   "source": [
    "spam()"
   ]
  },
  {
   "cell_type": "markdown",
   "metadata": {},
   "source": [
    "# Exception Handling\n"
   ]
  },
  {
   "cell_type": "code",
   "execution_count": 2,
   "metadata": {},
   "outputs": [
    {
     "name": "stdout",
     "output_type": "stream",
     "text": [
      "21.0\n",
      "3.5\n",
      "Error: Invalid argument\n",
      "None\n",
      "42.0\n"
     ]
    }
   ],
   "source": [
    "def spam(divideBy):\n",
    "    try:\n",
    "        return 42 / divideBy\n",
    "    except ZeroDivisionError:\n",
    "        print('Error: Invalid argument')\n",
    "\n",
    "print(spam(2))\n",
    "print(spam(12))\n",
    "print(spam(0))\n",
    "print(spam(1))"
   ]
  },
  {
   "cell_type": "code",
   "execution_count": 3,
   "metadata": {},
   "outputs": [
    {
     "name": "stdout",
     "output_type": "stream",
     "text": [
      "21.0\n",
      "3.5\n",
      "Error: Invalid argument\n"
     ]
    }
   ],
   "source": [
    "def spam(divide_by):\n",
    "    return 42 / divide_by\n",
    "\n",
    "try:\n",
    "    print(spam(2))\n",
    "    print(spam(12))\n",
    "    print(spam(0))\n",
    "    print(spam(1))\n",
    "except ZeroDivisionError:\n",
    "    print('Error: Invalid argument')"
   ]
  },
  {
   "cell_type": "code",
   "execution_count": 13,
   "metadata": {},
   "outputs": [
    {
     "name": "stdout",
     "output_type": "stream",
     "text": [
      "********\n",
      " ********\n",
      "  ********\n",
      "   ********\n",
      "    ********\n",
      "     ********\n",
      "      ********\n",
      "       ********\n",
      "        ********\n",
      "         ********\n",
      "          ********\n",
      "           ********\n",
      "            ********\n",
      "             ********\n",
      "              ********\n",
      "               ********\n",
      "                ********\n",
      "                 ********\n",
      "                  ********\n",
      "                   ********\n",
      "                    ********\n",
      "                   ********\n",
      "                  ********\n",
      "                 ********\n",
      "                ********\n",
      "               ********\n",
      "              ********\n",
      "             ********\n",
      "            ********\n",
      "           ********\n",
      "          ********\n",
      "         ********\n",
      "        ********\n",
      "       ********\n",
      "      ********\n"
     ]
    },
    {
     "ename": "SystemExit",
     "evalue": "",
     "output_type": "error",
     "traceback": [
      "An exception has occurred, use %tb to see the full traceback.\n",
      "\u001b[0;31mSystemExit\u001b[0m\n"
     ]
    }
   ],
   "source": [
    "import time\n",
    "import sys\n",
    "\n",
    "indent = 0 # how many sapces to ident\n",
    "\n",
    "ident_increasing = True # \n",
    "\n",
    "try:\n",
    "    while True: # the main program loop\n",
    "        print(' ' * indent, end='')\n",
    "        print('********')\n",
    "        time.sleep(0.1) # pause for 1/10 of a second\n",
    "        \n",
    "        if ident_increasing:\n",
    "            # increase the number of spaces:\n",
    "            indent = indent + 1\n",
    "\n",
    "            if indent == 20:\n",
    "                # change direction\n",
    "                ident_increasing = False\n",
    "\n",
    "        else:\n",
    "            # decrease the number of spaces\n",
    "\n",
    "            indent = indent -1 \n",
    "\n",
    "            if indent == 0:\n",
    "                # change the direciton\n",
    "                ident_increasing = True\n",
    "\n",
    "except KeyboardInterrupt:\n",
    "    sys.exit()"
   ]
  },
  {
   "cell_type": "code",
   "execution_count": null,
   "metadata": {},
   "outputs": [],
   "source": []
  }
 ],
 "metadata": {
  "kernelspec": {
   "display_name": "Python 3",
   "language": "python",
   "name": "python3"
  },
  "language_info": {
   "codemirror_mode": {
    "name": "ipython",
    "version": 3
   },
   "file_extension": ".py",
   "mimetype": "text/x-python",
   "name": "python",
   "nbconvert_exporter": "python",
   "pygments_lexer": "ipython3",
   "version": "3.7.4"
  }
 },
 "nbformat": 4,
 "nbformat_minor": 2
}
