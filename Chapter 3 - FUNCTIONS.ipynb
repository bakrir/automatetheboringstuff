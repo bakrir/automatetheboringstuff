{
 "cells": [
  {
   "cell_type": "markdown",
   "metadata": {},
   "source": [
    "You’re already familiar with the print(), input(), and len() functions from the previous chapters. Python provides several built-in functions like these, but you can also write your own functions. A function is like a miniprogram within a program.\n",
    "\n",
    "To better understand how functions work, let’s create one. Enter this program into the file editor and save it as helloFunc.py:"
   ]
  },
  {
   "cell_type": "code",
   "execution_count": 2,
   "metadata": {},
   "outputs": [
    {
     "name": "stdout",
     "output_type": "stream",
     "text": [
      "Hello world\n",
      "Give me a number?!: five\n",
      "4\n"
     ]
    }
   ],
   "source": [
    "print('Hello world')\n",
    "user_input = input('Give me a number?!: ')\n",
    "print(len(user_input) )"
   ]
  },
  {
   "cell_type": "code",
   "execution_count": 13,
   "metadata": {},
   "outputs": [],
   "source": []
  },
  {
   "cell_type": "code",
   "execution_count": 22,
   "metadata": {},
   "outputs": [
    {
     "name": "stdout",
     "output_type": "stream",
     "text": [
      "what is your name:rami\n",
      "Howdy\n",
      "Howdy!!!!\n",
      "Hello there.!\n",
      "Howdy\n",
      "Howdy!!!!\n",
      "Hello there.!\n",
      "Howdy\n",
      "Howdy!!!!\n",
      "Hello there.!\n"
     ]
    }
   ],
   "source": [
    "def hello():\n",
    "    print('Howdy')\n",
    "    print('Howdy!!!!')\n",
    "    print('Hello there.!')\n",
    "    \n",
    "user_input = input('what is your name:')\n",
    "\n",
    "if user_input:\n",
    "    hello()\n",
    "    hello()\n",
    "    hello()\n",
    "else:\n",
    "    print('no username provided')"
   ]
  },
  {
   "cell_type": "code",
   "execution_count": 25,
   "metadata": {},
   "outputs": [],
   "source": [
    "def hello(name):\n",
    "    print('Hello, ' + name)\n"
   ]
  },
  {
   "cell_type": "code",
   "execution_count": 24,
   "metadata": {},
   "outputs": [
    {
     "name": "stdout",
     "output_type": "stream",
     "text": [
      "Hello,Alice\n"
     ]
    }
   ],
   "source": [
    "hello('Alice')"
   ]
  },
  {
   "cell_type": "code",
   "execution_count": 27,
   "metadata": {},
   "outputs": [
    {
     "name": "stdout",
     "output_type": "stream",
     "text": [
      "Hello, Bob\n"
     ]
    },
    {
     "ename": "NameError",
     "evalue": "name 'name' is not defined",
     "output_type": "error",
     "traceback": [
      "\u001b[0;31m---------------------------------------------------------------------------\u001b[0m",
      "\u001b[0;31mNameError\u001b[0m                                 Traceback (most recent call last)",
      "\u001b[0;32m<ipython-input-27-b63b125ed1f6>\u001b[0m in \u001b[0;36m<module>\u001b[0;34m\u001b[0m\n\u001b[1;32m      1\u001b[0m \u001b[0mhello\u001b[0m\u001b[0;34m(\u001b[0m\u001b[0;34m'Bob'\u001b[0m\u001b[0;34m)\u001b[0m\u001b[0;34m\u001b[0m\u001b[0;34m\u001b[0m\u001b[0m\n\u001b[0;32m----> 2\u001b[0;31m \u001b[0mprint\u001b[0m\u001b[0;34m(\u001b[0m\u001b[0mname\u001b[0m\u001b[0;34m)\u001b[0m\u001b[0;34m\u001b[0m\u001b[0;34m\u001b[0m\u001b[0m\n\u001b[0m",
      "\u001b[0;31mNameError\u001b[0m: name 'name' is not defined"
     ]
    }
   ],
   "source": [
    "hello('Bob')\n",
    "print(name)"
   ]
  },
  {
   "cell_type": "code",
   "execution_count": 28,
   "metadata": {},
   "outputs": [
    {
     "name": "stdout",
     "output_type": "stream",
     "text": [
      "Hello, Al\n"
     ]
    }
   ],
   "source": [
    "def say_hello(name):\n",
    "    print('Hello, ' + name)\n",
    "    \n",
    "say_hello('Al')"
   ]
  },
  {
   "cell_type": "code",
   "execution_count": 35,
   "metadata": {},
   "outputs": [],
   "source": [
    "import random\n",
    "\n",
    "def get_answer(answer_number):\n",
    "    if answer_number == 1:\n",
    "        return 'it is certain'\n",
    "    \n",
    "    elif answer_number == 2:\n",
    "        return 'it is decidedly so'\n",
    "\n",
    "    elif answer_number == 3:\n",
    "        return 'Yes'\n",
    "    \n",
    "    elif answer_number == 4:\n",
    "        return 'Reply Hazy try again'\n",
    "    \n",
    "    elif answer_number == 5:\n",
    "        return 'Ask again later'\n",
    "    \n",
    "    elif answer_number == 6:\n",
    "        return 'Concentrate and ask again'\n",
    "    \n",
    "    elif answer_number ==7:\n",
    "        return 'my reply is no'\n",
    "    \n",
    "    elif answer_number == 8:\n",
    "        return 'outlook not so good'\n",
    "    \n",
    "    elif answer_number == 9:\n",
    "        return 'very doubtful'\n",
    "    \n",
    "\n",
    "    \n",
    "\n"
   ]
  },
  {
   "cell_type": "code",
   "execution_count": 43,
   "metadata": {},
   "outputs": [
    {
     "name": "stdout",
     "output_type": "stream",
     "text": [
      "it is decidedly so\n",
      "Yes\n"
     ]
    }
   ],
   "source": [
    "r = random.randint(1,9)\n",
    "\n",
    "fortune = get_answer(r)\n",
    "\n",
    "print(fortune)\n",
    "\n",
    "print(get_answer(random.randint(1,9)))"
   ]
  },
  {
   "cell_type": "code",
   "execution_count": null,
   "metadata": {},
   "outputs": [],
   "source": []
  },
  {
   "cell_type": "code",
   "execution_count": null,
   "metadata": {},
   "outputs": [],
   "source": []
  }
 ],
 "metadata": {
  "kernelspec": {
   "display_name": "Python 3",
   "language": "python",
   "name": "python3"
  },
  "language_info": {
   "codemirror_mode": {
    "name": "ipython",
    "version": 3
   },
   "file_extension": ".py",
   "mimetype": "text/x-python",
   "name": "python",
   "nbconvert_exporter": "python",
   "pygments_lexer": "ipython3",
   "version": "3.7.4"
  }
 },
 "nbformat": 4,
 "nbformat_minor": 2
}
