{
 "cells": [
  {
   "cell_type": "markdown",
   "metadata": {},
   "source": [
    "Practice Questions\n",
    "1. Why are functions advantageous to have in your programs?\n",
    "\n",
    "2. When does the code in a function execute: when the function is defined or when the function is called?\n",
    "\n",
    "3. What statement creates a function?\n",
    "\n",
    "4. What is the difference between a function and a function call?\n",
    "\n",
    "5. How many global scopes are there in a Python program? How many local scopes?\n",
    "\n",
    "6. What happens to variables in a local scope when the function call returns?\n",
    "\n",
    "7. What is a return value? Can a return value be part of an expression?\n",
    "\n",
    "8. If a function does not have a return statement, what is the return value of a call to that function?\n",
    "\n",
    "9. How can you force a variable in a function to refer to the global variable?\n",
    "\n",
    "10. What is the data type of None?\n",
    "\n",
    "11. What does the import areallyourpetsnamederic statement do?\n",
    "\n",
    "12. If you had a function named bacon() in a module named spam, how would you call it after importing spam?\n",
    "\n",
    "13. How can you prevent a program from crashing when it gets an error?\n",
    "\n",
    "14. What goes in the try clause? What goes in the except clause?"
   ]
  },
  {
   "cell_type": "markdown",
   "metadata": {},
   "source": [
    "# Test\n",
    "\n",
    "- test1\n",
    "- test2\n",
    "\n",
    "```\n",
    "print()\n",
    "```"
   ]
  },
  {
   "cell_type": "markdown",
   "metadata": {},
   "source": [
    "# H1\n",
    "## H2\n",
    "### H3\n",
    "#### H4\n",
    "##### H5\n",
    "###### H6\n",
    "\n",
    "Alternatively, for H1 and H2, an underline-ish style:\n",
    "\n",
    "Alt-H1\n",
    "======\n",
    "\n",
    "Alt-H2\n",
    "------"
   ]
  },
  {
   "cell_type": "code",
   "execution_count": null,
   "metadata": {},
   "outputs": [],
   "source": []
  }
 ],
 "metadata": {
  "kernelspec": {
   "display_name": "Python 3",
   "language": "python",
   "name": "python3"
  },
  "language_info": {
   "codemirror_mode": {
    "name": "ipython",
    "version": 3
   },
   "file_extension": ".py",
   "mimetype": "text/x-python",
   "name": "python",
   "nbconvert_exporter": "python",
   "pygments_lexer": "ipython3",
   "version": "3.7.4"
  }
 },
 "nbformat": 4,
 "nbformat_minor": 2
}
